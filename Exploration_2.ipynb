{
  "nbformat": 4,
  "nbformat_minor": 0,
  "metadata": {
    "colab": {
      "name": "Exploration 2",
      "provenance": [],
      "collapsed_sections": [],
      "toc_visible": true,
      "include_colab_link": true
    },
    "kernelspec": {
      "name": "python3",
      "display_name": "Python 3"
    },
    "language_info": {
      "name": "python"
    }
  },
  "cells": [
    {
      "cell_type": "markdown",
      "metadata": {
        "id": "view-in-github",
        "colab_type": "text"
      },
      "source": [
        "<a href=\"https://colab.research.google.com/github/morea-lee/MATH-152/blob/main/Exploration_2.ipynb\" target=\"_parent\"><img src=\"https://colab.research.google.com/assets/colab-badge.svg\" alt=\"Open In Colab\"/></a>"
      ]
    },
    {
      "cell_type": "markdown",
      "source": [
        "# The Random Walk"
      ],
      "metadata": {
        "id": "fIv6_TCJ_Qg0"
      }
    },
    {
      "cell_type": "markdown",
      "source": [
        "## Introduction\n",
        "`matplotlib` is a plotting library for Python and NumPy. This includes line plots, scatter plots, histograms, and more. For our exploration, we use `matplotlib` to simulate a random walk. We explore a random walk in one and two dimensions, random walks with two people, rectangle constraints (walls), and a random walk with a person and a dog. In this particular one, we explore gravity such that the dog walks back to the person. We include functions that compute the average of `N` random walks with `n` steps and the average distance from endpoints to origin.\n",
        "Pillow is a fork from PIL. It has powerful image processing qualities and saves data in the form of pixel units. In our exploration, we plotted the array of endpoints from a scatter plot of endpoints from 1000 iterations of the random walk.\n"
      ],
      "metadata": {
        "id": "wWid2TfJ1T9a"
      }
    },
    {
      "cell_type": "code",
      "source": [
        "# import the packages we will be using for this exploration\n",
        "import numpy as np\n",
        "import matplotlib.pyplot as plt\n",
        "from PIL import Image  "
      ],
      "metadata": {
        "id": "-e_g5_nMiMbd"
      },
      "execution_count": null,
      "outputs": []
    },
    {
      "cell_type": "markdown",
      "source": [
        "## One Dimension Walk\n"
      ],
      "metadata": {
        "id": "hDh4aeHQDPNT"
      }
    },
    {
      "cell_type": "markdown",
      "source": [
        "### 1000 Iterations Without Walls\n",
        "First we will look at the distribution of the distance of random walks from the origin with 1000 iterations using a histogram."
      ],
      "metadata": {
        "id": "f4R5iNlgJWNw"
      }
    },
    {
      "cell_type": "code",
      "source": [
        "xlist = np.linspace(0,1000, 1000)\n",
        "ylist = np.zeros(1000) # Initialize arrays of zeros \n",
        "endpoints = np.zeros((1000, 2)) # initialize a list of enpoints\n",
        "for i in range(1000):\n",
        "    rwalk = np.random.randint(0,2,1000) \n",
        "    x, y = 0, 0 # We start at (0,0) with each random walk\n",
        "    for t in range(1000):  # t will be the \"time\" parameter for the walk\n",
        "        xlist[t] = x\n",
        "        ylist[t] = y\n",
        "        if(rwalk[t] == 0):\n",
        "            x += -1\n",
        "            y += 1\n",
        "        elif (rwalk[t] == 1):\n",
        "            x += 1\n",
        "            y += 1\n",
        "    endpoints[i, 0] = x\n",
        "    endpoints[i, 1] = y\n",
        "\n",
        "plt.figure(figsize=(5,5))\n",
        "plt.scatter(0, 0, s=100, c = 'green') # plot starting point as green\n",
        "plt.hist(endpoints[:, 0], bins=31) # Divide the range of numbers into 31 \"bins\".\n",
        "plt.grid() \n",
        "plt.xlabel('Distance From 0')\n",
        "plt.ylabel('Count')\n",
        "plt.title('Histomgram of 1000 random walks in 1 dimension')\n",
        "plt.show()"
      ],
      "metadata": {
        "colab": {
          "base_uri": "https://localhost:8080/",
          "height": 350
        },
        "id": "Y2VLC6YHJG7P",
        "outputId": "0303663a-0d17-4302-a233-9374218115fc"
      },
      "execution_count": null,
      "outputs": [
        {
          "output_type": "display_data",
          "data": {
            "image/png": "[encoded data removed]",
            "text/plain": [
              "<Figure size 360x360 with 1 Axes>"
            ]
          },
          "metadata": {
            "needs_background": "light"
          }
        }
      ]
    },
    {
      "cell_type": "markdown",
      "source": [
        "Put up a wall, or two: in the one-dimensional case, imagine there’s a wall at $x=20$ and you can never go into the negative numbers. With each step, the graph moves up on the $y$-axis and to either the right or left depending on the random integer."
      ],
      "metadata": {
        "id": "XFLKAomPJVHL"
      }
    },
    {
      "cell_type": "code",
      "source": [
        "xlist = np.linspace(0,1000, 1000)\n",
        "ylist = np.zeros(1000) # Initialize arrays of zeros \n",
        "endpoints = np.zeros((1000, 2)) # initialize a list of enpoints\n",
        "for i in range(1000):\n",
        "    rwalk = np.random.randint(0,2,1000) \n",
        "    x, y = 0, 0 # We start at (0,0) with each random walk\n",
        "    for t in range(1000):  # t will be the \"time\" parameter for the walk\n",
        "        xlist[t] = x\n",
        "        ylist[t] = y\n",
        "        if(rwalk[t] == 0):\n",
        "            x += -1\n",
        "            y += 1\n",
        "        elif (rwalk[t] == 1):\n",
        "            x += 1\n",
        "            y += 1\n",
        "        if(x > 20):\n",
        "            x += -1\n",
        "        elif(x < 0):\n",
        "            x += 1\n",
        "    endpoints[i, 0] = x\n",
        "    endpoints[i, 1] = y\n",
        "\n",
        "plt.figure(figsize=(5,5))\n",
        "plt.scatter(0, 0, s=100, c = 'green') # plot starting point as green\n",
        "plt.hist(endpoints[:, 0], bins=21) # Divide the range of numbers into 21 \"bins\".\n",
        "plt.grid() \n",
        "plt.xlabel('Distance From 0')\n",
        "plt.ylabel('Count')\n",
        "plt.title('Histomgram of 1000 random walks in 1 dimension with walls')\n",
        "plt.show()"
      ],
      "metadata": {
        "id": "ZpM0ZLL6TWCD",
        "colab": {
          "base_uri": "https://localhost:8080/",
          "height": 350
        },
        "outputId": "fa7d8a72-8226-4247-8055-e0725078d893"
      },
      "execution_count": null,
      "outputs": [
        {
          "output_type": "display_data",
          "data": {
            "image/png": "[encoded data removed]",
            "text/plain": [
              "<Figure size 360x360 with 1 Axes>"
            ]
          },
          "metadata": {
            "needs_background": "light"
          }
        }
      ]
    },
    {
      "cell_type": "markdown",
      "source": [
        "### Observations:\n",
        "The first distribution appears to have a normal distribution as one might predict. It is centered around 0 and has much less frequency as is moves further from zero. We can see that when walls are added at $x=0$ and $x=20$ the distribution becomes much more uniform. "
      ],
      "metadata": {
        "id": "i1EvwHg1OTMm"
      }
    },
    {
      "cell_type": "markdown",
      "source": [
        "## Two Dimension Walk"
      ],
      "metadata": {
        "id": "jJIZVyY-UDrY"
      }
    },
    {
      "cell_type": "code",
      "source": [
        "coinFlip = np.random.randint(0,4,1000) # a coin flip machine that contains 0,1,2,3 numbers for 1000 times\n",
        "xlist = np.zeros(1000) # Initialize arrays of zeros\n",
        "ylist = np.zeros(1000) \n",
        "x,y = 0,0 # We start at (0,0)\n",
        "for t in range(1000):  # t will be the \"time\" parameter for the walk\n",
        "    xlist[t] = x\n",
        "    ylist[t] = y\n",
        "    if(coinFlip[t] == 0): # if coiintflip is 0, x move left by one unit on the number line\n",
        "      x += -1\n",
        "    elif(coinFlip[t] == 1): # if coiintflip is 1, x move right by one unit on the number line\n",
        "      x += 1\n",
        "    elif(coinFlip[t] == 2): # if coiintflip is 2, y move down by one unit on the number line\n",
        "      y += -1\n",
        "    else: # if coiintflip is 3, y move up by one unit on the number line\n",
        "      y += 1\n",
        "\n",
        "plt.figure(figsize=(5,5))\n",
        "plt.plot(xlist, ylist,c='blue')\n",
        "plt.scatter(0, 0, s=100, c = 'green') #plot starting point as green\n",
        "plt.scatter(xlist[-1], ylist[-1], s=100, c = 'red') #plot endpoint as red\n",
        "plt.grid() \n",
        "plt.xlabel('$x$') \n",
        "plt.ylabel('$y$')\n",
        "plt.title('A random walk in 2 dimensions')\n",
        "plt.show()\n",
        "\n",
        "print('----------------------')\n",
        "print(\"Endpoint of x is {}\".format(xlist[-1]))\n",
        "print(\"Endpoint of y is {}\".format(ylist[-1]))\n",
        "print(\"Distance between starting point and endpoint is {}\".format(np.sqrt((xlist[-1])**2 + (ylist[-1])**2)))"
      ],
      "metadata": {
        "colab": {
          "base_uri": "https://localhost:8080/",
          "height": 421
        },
        "id": "D13SlnRKuGa5",
        "outputId": "4d14837c-35cb-4bd7-afae-1197ab0e3bb2"
      },
      "execution_count": null,
      "outputs": [
        {
          "output_type": "display_data",
          "data": {
            "image/png": "[encoded data removed]",
            "text/plain": [
              "<Figure size 360x360 with 1 Axes>"
            ]
          },
          "metadata": {
            "needs_background": "light"
          }
        },
        {
          "output_type": "stream",
          "name": "stdout",
          "text": [
            "----------------------\n",
            "Endpoint of x is -1.0\n",
            "Endpoint of y is -2.0\n",
            "Distance between starting point and endpoint is 2.23606797749979\n"
          ]
        }
      ]
    },
    {
      "cell_type": "markdown",
      "source": [
        "### 1000 Iterations Without Walls"
      ],
      "metadata": {
        "id": "qfBIR0z0J1Km"
      }
    },
    {
      "cell_type": "markdown",
      "source": [
        "Explore repetitions with variation in steps. Find $\\sqrt{N}$."
      ],
      "metadata": {
        "id": "PxKgzRLuKWTY"
      }
    },
    {
      "cell_type": "code",
      "source": [
        "# Plots 1000 random walks in 2 dimensions\n",
        "# red points are the endpoints of each random walk, the green point is the starting point (0, 0)\n",
        "xlist = np.zeros(1000) # Initialize arrays of zeros\n",
        "ylist = np.zeros(1000) \n",
        "endpoints = np.zeros((1000, 2)) # initialize a list of enpoints\n",
        "for i in range(1000):\n",
        "    coinFlip = np.random.randint(0, 4, 1000) # a coin flip machine that contains 1000 integers ranging from [0, 3]\n",
        "    x, y = 0, 0 # We start at (0,0) with each random walk\n",
        "    for t in range(1000):  # t will be the \"time\" parameter for the walk with 1000 steps\n",
        "        xlist[t] = x\n",
        "        ylist[t] = y\n",
        "        if(coinFlip[t] == 0): # if coinflip is 0, x move left by one unit on the number line\n",
        "            x += -1\n",
        "        elif(coinFlip[t] == 1): # if coinflip is 1, x move right by one unit on the number line\n",
        "            x += 1\n",
        "        elif(coinFlip[t] == 2): # if coinflip is 2, y move down by one unit on the number line\n",
        "            y += -1\n",
        "        else: # if coinflip is 3, y move up by one unit on the number line\n",
        "            y += 1\n",
        "    endpoints[i, 0] = xlist[-1]\n",
        "    endpoints[i, 1] = ylist[-1]\n",
        "\n",
        "plt.figure(figsize=(5,5))\n",
        "# plt.plot(xlist, ylist, c='blue')\n",
        "plt.scatter(0, 0, s=100, c = 'green') # plot starting point as green\n",
        "plt.scatter(endpoints[:, 0], endpoints[:, 1], s=1, c = 'red') # plot endpoints as red\n",
        "plt.grid() \n",
        "plt.xlabel('$x$') \n",
        "plt.ylabel('$y$')\n",
        "plt.title('1000 random walks in 2 dimensions') # red points are the endpoints of each random walk, green is the start point (0, 0)\n",
        "plt.show()"
      ],
      "metadata": {
        "colab": {
          "base_uri": "https://localhost:8080/",
          "height": 350
        },
        "id": "aHNA-L_sJ0FF",
        "outputId": "ef19668d-9de2-4c56-d2fe-053db4698dc8"
      },
      "execution_count": null,
      "outputs": [
        {
          "output_type": "display_data",
          "data": {
            "image/png": "[encoded data removed]",
            "text/plain": [
              "<Figure size 360x360 with 1 Axes>"
            ]
          },
          "metadata": {
            "needs_background": "light"
          }
        }
      ]
    },
    {
      "cell_type": "code",
      "source": [
        "# Average distance of the enpoints from (0,0)\n",
        "distance = np.zeros((1000, 1))\n",
        "for i in range(1000):\n",
        "    distance[i] = np.sqrt((endpoints[i, 0]**2)+(endpoints[i, 1]**2))\n",
        "ave = np.average(distance)\n",
        "\n",
        "print(\"The average distance from the start after 1000 steps, based on 1000 repetitions, is {}\".format(ave))"
      ],
      "metadata": {
        "colab": {
          "base_uri": "https://localhost:8080/"
        },
        "id": "VK8pZ6Y7mSER",
        "outputId": "856ce5cf-6d6e-4da7-e348-e3ac7eeac900"
      },
      "execution_count": null,
      "outputs": [
        {
          "output_type": "stream",
          "name": "stdout",
          "text": [
            "The average distance from the start after 1000 steps, based on 1000 repetitions, is 28.039041629753665\n"
          ]
        }
      ]
    },
    {
      "cell_type": "markdown",
      "source": [
        "### With Walls\n",
        "Stay in a box, a rectangle, for example. If you walk into the edge, you bounce off."
      ],
      "metadata": {
        "id": "rOCSdcFZUYLZ"
      }
    },
    {
      "cell_type": "code",
      "source": [
        "# RECTANGLE CONSTRAINT\n",
        "coinFlip = np.random.randint(0,4,1000) #a coin flip machine that contains 0,1,2,3 numbers for 1000 times\n",
        "xlist2 = np.zeros(1000) # Initialize arrays of zeros\n",
        "ylist2 = np.zeros(1000) \n",
        "x,y,t = 0,0,0 # We start at (0,0) , \n",
        "con = 10\n",
        "while t < 1000: # t will be the \"time\" parameter for the walk\n",
        "    xlist2[t] = x\n",
        "    ylist2[t] = y\n",
        "    if(coinFlip[t] == 0): # if coinflip is 0, x move left by one unit on the number line\n",
        "      x += 1\n",
        "    elif(coinFlip[t] == 1): # if coinflip is 1, x move right by one unit on the number line\n",
        "      x += -1\n",
        "    elif(coinFlip[t] == 2): # if coinflip is 2, y move down by one unit on the number line\n",
        "      y += 1\n",
        "    else: # if coinflip is 3, y move up by one unit on the number line\n",
        "      y += -1\n",
        "    if(x == con):\n",
        "      x += -1\n",
        "    elif(x == -con):\n",
        "      x += 1\n",
        "    if(y == con):\n",
        "      y += -1\n",
        "    elif(y == -con):\n",
        "      y += 1\n",
        "    t += 1\n",
        "\n",
        "plt.figure(figsize=(5,5))\n",
        "plt.plot(xlist2, ylist2, c='blue')\n",
        "plt.scatter(0, 0, s=100, c = 'green') #plot starting point as green\n",
        "plt.scatter(xlist2[-1], ylist2[-1], s=100, c = 'red') #plot endpoint as red\n",
        "plt.grid() \n",
        "plt.xlabel('$x$') \n",
        "plt.ylabel('$y$')\n",
        "plt.title('A random walk in 2 dimensions with walls')\n",
        "plt.show()\n"
      ],
      "metadata": {
        "id": "Mt4-Ma6fY-Vi",
        "outputId": "0cbf0a6c-901d-408a-f608-b47e7d8ceb5f",
        "colab": {
          "base_uri": "https://localhost:8080/",
          "height": 350
        }
      },
      "execution_count": null,
      "outputs": [
        {
          "output_type": "display_data",
          "data": {
            "image/png": "[encoded data removed]",
            "text/plain": [
              "<Figure size 360x360 with 1 Axes>"
            ]
          },
          "metadata": {
            "needs_background": "light"
          }
        }
      ]
    },
    {
      "cell_type": "code",
      "source": [
        "# 1000 with walls\n",
        "endpoints = np.zeros((1000, 2)) # initialize a list of enpoints\n",
        "for i in range(1000):\n",
        "    coinFlip = np.random.randint(0,4,1000) #a coin flip machine that contains 0,1,2,3 numbers for 1000 times\n",
        "    xlist2 = np.zeros(1000) # Initialize arrays of zeros\n",
        "    ylist2 = np.zeros(1000) \n",
        "    x,y,t = 0,0,0 # We start at (0,0) , \n",
        "    con = 10\n",
        "    while t < 1000: # t will be the \"time\" parameter for the walk\n",
        "        xlist2[t] = x\n",
        "        ylist2[t] = y\n",
        "        if(coinFlip[t] == 0): # if coinflip is 0, x move left by one unit on the number line\n",
        "            x += 1\n",
        "        elif(coinFlip[t] == 1): # if coinflip is 1, x move right by one unit on the number line\n",
        "            x += -1\n",
        "        elif(coinFlip[t] == 2): # if coinflip is 2, y move down by one unit on the number line\n",
        "            y += 1\n",
        "        else: # if coinflip is 3, y move up by one unit on the number line\n",
        "            y += -1\n",
        "        if(x == con):\n",
        "            x += -1\n",
        "        elif(x == -con):\n",
        "            x += 1\n",
        "        if(y == con):\n",
        "            y += -1\n",
        "        elif(y == -con):\n",
        "            y += 1\n",
        "        t += 1\n",
        "    endpoints[i, 0] = x\n",
        "    endpoints[i, 1] = y\n",
        "\n",
        "plt.figure(figsize=(5,5))\n",
        "#plt.plot(xlist2, ylist2, c='blue')\n",
        "plt.scatter(0, 0, s=100, c = 'green') #plot starting point as green\n",
        "plt.scatter(endpoints[:, 0], endpoints[:, 1], s=1, alpha=1, c = 'red') #plot endpoint as red\n",
        "plt.grid() \n",
        "plt.xlabel('$x$') \n",
        "plt.ylabel('$y$')\n",
        "plt.title('A random walk in 2 dimensions with walls')\n",
        "plt.show()\n"
      ],
      "metadata": {
        "colab": {
          "base_uri": "https://localhost:8080/",
          "height": 350
        },
        "id": "T0veHnKiXkuI",
        "outputId": "9581e539-e82d-4fea-bb4e-0bb7e02e5904"
      },
      "execution_count": null,
      "outputs": [
        {
          "output_type": "display_data",
          "data": {
            "image/png": "[encoded data removed]",
            "text/plain": [
              "<Figure size 360x360 with 1 Axes>"
            ]
          },
          "metadata": {
            "needs_background": "light"
          }
        }
      ]
    },
    {
      "cell_type": "code",
      "source": [
        "def repetition(n):\n",
        "  '''\n",
        "  Takes a single repition of a n steps random walk and returns the last endpoint of that walk\n",
        "  Input n steps of the random walk\n",
        "  Output the endpoint of the n steps random walk\n",
        "  '''\n",
        "\n",
        "  coinFlip = np.random.randint(0,4,n)\n",
        "  xlist2 = np.zeros(n)\n",
        "  ylist2 = np.zeros(n) \n",
        "  x,y = 0,0 \n",
        "  for t in range(n): \n",
        "    xlist2[t] = x\n",
        "    ylist2[t] = y\n",
        "    if(coinFlip[t] == 0): #if coiintflip is 0, x move left by one unit on the number line\n",
        "      x += -1\n",
        "    elif(coinFlip[t] == 1): #if coiintflip is 1, x move right by one unit on the number line\n",
        "      x += 1\n",
        "    elif(coinFlip[t] == 2): #if coiintflip is 2, y move down by one unit on the number line\n",
        "      y += -1\n",
        "    else: #if coiintflip is 3, y move up by one unit on the number line\n",
        "      y += 1\n",
        "\n",
        "  return [xlist2[-1],ylist2[-1]]"
      ],
      "metadata": {
        "id": "6iuVoEP6gLzz"
      },
      "execution_count": null,
      "outputs": []
    },
    {
      "cell_type": "code",
      "source": [
        "def randomWalkAverage(N, n):\n",
        "  '''\n",
        "  Collecting the endpoints of N times of the random walks with n steps and find the average\n",
        "  Input N times of the random walks and n steps\n",
        "  Output the average of the distance from endpoints to origin N times of n steps \n",
        "  '''\n",
        "\n",
        "  averageCalc = []\n",
        "  for i in range(N):\n",
        "    endpoint = repetition(n) #Collecting endpoint of the randomwalks\n",
        "    distance = np.sqrt((endpoint[0])**2 + (endpoint[1])**2)\n",
        "    averageCalc.append(distance)\n",
        "\n",
        "  #print(len(averageCalc))\n",
        "  average = sum(averageCalc) / len(averageCalc)\n",
        "  return average"
      ],
      "metadata": {
        "id": "g7FX7bzYLnn-"
      },
      "execution_count": null,
      "outputs": []
    },
    {
      "cell_type": "code",
      "source": [
        "print(randomWalkAverage(1000,1000))\n",
        "print(\"Average of 1000 is {}\".format(np.sqrt(1000)))"
      ],
      "metadata": {
        "id": "tXZ6xHj9LpRR",
        "colab": {
          "base_uri": "https://localhost:8080/"
        },
        "outputId": "1e34cfb0-78eb-4471-c6b3-e17dec1fc6ed"
      },
      "execution_count": null,
      "outputs": [
        {
          "output_type": "stream",
          "name": "stdout",
          "text": [
            "27.87103857356754\n",
            "Average of 1000 is 31.622776601683793\n"
          ]
        }
      ]
    },
    {
      "cell_type": "code",
      "source": [
        "print(\"A 1,000 times repetition of distance between starting point and endpoint for 10 steps is {}\".format(randomWalkAverage(1000,10)))\n",
        "print(\"sqrt of 10 is {}\".format(np.sqrt(10)))"
      ],
      "metadata": {
        "colab": {
          "base_uri": "https://localhost:8080/"
        },
        "id": "jh1rCDlyPHVu",
        "outputId": "26ed0d6a-d357-4142-f777-194ec54724fe"
      },
      "execution_count": null,
      "outputs": [
        {
          "output_type": "stream",
          "name": "stdout",
          "text": [
            "A 1,000 times repetition of distance between starting point and endpoint for 10 steps is 2.595668821816085\n",
            "sqrt of 10 is 3.1622776601683795\n"
          ]
        }
      ]
    },
    {
      "cell_type": "code",
      "source": [
        "print(\"A 1,000 times repetition of distance between starting point and endpoint for 100 steps is {}\".format(randomWalkAverage(1000,100)))\n",
        "print(\"sqrt of 100 is {}\".format(np.sqrt(100)))"
      ],
      "metadata": {
        "colab": {
          "base_uri": "https://localhost:8080/"
        },
        "id": "5RgKrLQcPotd",
        "outputId": "b2a4bc23-d414-48b0-baea-1100b0f65b13"
      },
      "execution_count": null,
      "outputs": [
        {
          "output_type": "stream",
          "name": "stdout",
          "text": [
            "A 1,000 times repetition of distance between starting point and endpoint for 100 steps is 8.873871512644815\n",
            "sqrt of 100 is 10.0\n"
          ]
        }
      ]
    },
    {
      "cell_type": "code",
      "source": [
        "print(\"A 1,000 times repetition of distance between starting point and endpoint for 1000 steps is {}\".format(randomWalkAverage(1000,1000)))\n",
        "print(\"sqrt of 1000 is {}\".format(np.sqrt(1000)))"
      ],
      "metadata": {
        "colab": {
          "base_uri": "https://localhost:8080/"
        },
        "id": "C6SbXzqrQQU2",
        "outputId": "57adefbb-d7e6-45a6-e677-735a487a4012"
      },
      "execution_count": null,
      "outputs": [
        {
          "output_type": "stream",
          "name": "stdout",
          "text": [
            "A 1,000 times repetition of distance between starting point and endpoint for 1000 steps is 28.385942183719646\n",
            "sqrt of 1000 is 31.622776601683793\n"
          ]
        }
      ]
    },
    {
      "cell_type": "code",
      "source": [
        "print(\"A 1,000 times repetition of distance between starting point and endpoint for 10,000 steps is {}\".format(randomWalkAverage(1000,10000)))\n",
        "print(\"sqrt of 10,000 is {}\".format(np.sqrt(10000)))"
      ],
      "metadata": {
        "colab": {
          "base_uri": "https://localhost:8080/"
        },
        "id": "LJFRS32dQRpj",
        "outputId": "84120c09-38c9-4abb-c4eb-7385a42cc5be"
      },
      "execution_count": null,
      "outputs": [
        {
          "output_type": "stream",
          "name": "stdout",
          "text": [
            "A 1,000 times repetition of distance between starting point and endpoint for 10,000 steps is 88.77441649877349\n",
            "sqrt of 10,000 is 100.0\n"
          ]
        }
      ]
    },
    {
      "cell_type": "code",
      "source": [
        "%timeit randomWalkAverage #best of 5: 31.3 ns per loop"
      ],
      "metadata": {
        "colab": {
          "base_uri": "https://localhost:8080/"
        },
        "id": "KgYgjkDWO_R9",
        "outputId": "ebbbd6e1-d46c-43db-bd00-f126d76240b7"
      },
      "execution_count": null,
      "outputs": [
        {
          "output_type": "stream",
          "name": "stdout",
          "text": [
            "The slowest run took 82.36 times longer than the fastest. This could mean that an intermediate result is being cached.\n",
            "10000000 loops, best of 5: 33.1 ns per loop\n"
          ]
        }
      ]
    },
    {
      "cell_type": "markdown",
      "source": [
        "### Observations:\n",
        "We can see that with the two dimensional plots most of the data is clumped more near (0,0). When walls are added, the data looks more uniform and evenly distributed in the (-10, 10) by (-10, 10) region. \\\n",
        "Also, when running 1000 iterations, we get closer to $\\sqrt{1000}$  from walking 1000 random steps. It is the same with 10 steps and 100 steps when we run 1000 iterations. \\\n",
        "From the graphs above, we can see that we rarely returned to where we started in the beginning, which is (0,0)"
      ],
      "metadata": {
        "id": "M8fB9l4JY3a9"
      }
    },
    {
      "cell_type": "markdown",
      "source": [
        "## 2 Person Two Dimenson Walk"
      ],
      "metadata": {
        "id": "KHVLiLuwAfSR"
      }
    },
    {
      "cell_type": "markdown",
      "source": [
        "What if there are two “people” walking at the same time. They start at the different places, and are not allowed to pass through each other (they bounce off)."
      ],
      "metadata": {
        "id": "az-87slKUmuF"
      }
    },
    {
      "cell_type": "code",
      "source": [
        "coinFlip = np.random.randint(0,4,1000) #a coin flip machine that contains 0,1,2,3 numbers for 1000 times\n",
        "xlist2 = np.zeros(1000) # Initialize arrays of zeros\n",
        "ylist2 = np.zeros(1000) \n",
        "coinFlip2=np.random.randint(0,4,1000)\n",
        "xlist4 = np.zeros(1000) # Initialize arrays of zeros\n",
        "ylist4 = np.zeros(1000)\n",
        "x_one, y_one, x_two, y_two = 0,0,0,0 # We start at (0,0)\n",
        "overlap_x = np.array(0)\n",
        "overlap_y = np.array(0)\n",
        "for t in range(1000):  # t will be the \"time\" parameter for the walk\n",
        "    xlist2[t] = x_one\n",
        "    ylist2[t] = y_one\n",
        "    xlist4[t] = x_two\n",
        "    ylist4[t] = y_two\n",
        "    if(coinFlip[t] == 0): #if coiintflip is 0, x move left by one unit on the number line\n",
        "      x_one += -1\n",
        "    elif(coinFlip[t] == 1): #if coiintflip is 1, x move right by one unit on the number line\n",
        "      x_one += 1\n",
        "    elif(coinFlip[t] == 2): #if coiintflip is 2, y move down by one unit on the number line\n",
        "      y_one += -1\n",
        "    else: #if coiintflip is 3, y move up by one unit on the number line\n",
        "      y_one += 1\n",
        "    if(coinFlip2[t] == 0): #if coiintflip is 0, x move left by one unit on the number line\n",
        "      x_two += -1\n",
        "    elif(coinFlip2[t] == 1): #if coiintflip is 1, x move right by one unit on the number line\n",
        "      x_two += 1\n",
        "    elif(coinFlip2[t] == 2): #if coiintflip is 2, y move down by one unit on the number line\n",
        "      y_two += -1\n",
        "    else: #if coiintflip is 3, y move up by one unit on the number line\n",
        "      y_two += 1\n",
        "    if(x_one == x_two and y_one == y_two): #if statement to havie the two random walk routes not overlap\n",
        "      # use a coin flip to choose the direction\n",
        "      x_one += 1\n",
        "      x_two += -1\n",
        "      np.append(overlap_x, x_one) # create array with list of points where they bump into each other\n",
        "      np.append(overlap_y, y_one)\n",
        "\n",
        "plt.figure(figsize=(5,5))\n",
        "plt.plot(xlist2, ylist2, alpha=.5, c='blue')\n",
        "plt.plot(xlist4,ylist4, alpha=.5, c='red')\n",
        "plt.scatter(0, 0, s=30, c = 'green', marker='s') #plot starting point as green\n",
        "plt.scatter(xlist2[-1], ylist2[-1], s=50, c = 'red', marker='p') #plot endpoint as red\n",
        "plt.scatter(xlist4[-1],  ylist4[-1], s=50, c = 'pink', marker='o') #endpoint for the red line\n",
        "plt.grid() \n",
        "plt.xlabel('$x$') \n",
        "plt.ylabel('$y$')\n",
        "plt.title('Two random walks in 2 dimensions')\n",
        "plt.show()"
      ],
      "metadata": {
        "id": "Ouk5SiUhUoWm",
        "colab": {
          "base_uri": "https://localhost:8080/",
          "height": 350
        },
        "outputId": "83f723f5-dcd7-4749-9d12-d70f5ee98aef"
      },
      "execution_count": null,
      "outputs": [
        {
          "output_type": "display_data",
          "data": {
            "image/png": "[encoded data removed]",
            "text/plain": [
              "<Figure size 360x360 with 1 Axes>"
            ]
          },
          "metadata": {
            "needs_background": "light"
          }
        }
      ]
    },
    {
      "cell_type": "markdown",
      "source": [
        "###Random walk with a dog\n",
        "This block of code simulates a person (blue) walking a dog (red) until a point in time where the person lets the dog go, and they both go separate ways. Purple indicates where the person and the dog walk together. \n",
        "\n",
        "\n",
        "\n"
      ],
      "metadata": {
        "id": "nklMV1CArw9N"
      }
    },
    {
      "cell_type": "code",
      "source": [
        "coinFlip = np.random.randint(0,4,1000)   # a coin flip machine that contains 0,1,2,3 numbers for 1000 times\n",
        "x1 = np.zeros(1000) \n",
        "y1 = np.zeros(1000)\n",
        "x2 = np.zeros(1000) \n",
        "y2 = np.zeros(1000)\n",
        "x,y = 0,0                                 # starting point for person at 0,0\n",
        "a,b = 0,0                                 # starting point for dog at 0,0\n",
        "count = 0                                 # counter for dog purposes\n",
        "for t in range(1000):\n",
        "  x1[t], y1[t] = x,y\n",
        "  x2[t], y2[t] = a,b\n",
        "  if coinFlip[t] == 0:   # if coinFlip == 0, move both x-values to the left 1\n",
        "    x += -1\n",
        "    a += -1\n",
        "    count += 1\n",
        "  elif coinFlip[t] == 1: # if coinFlip == 1, move both x-values to the right 1\n",
        "    x += 1\n",
        "    a += 1\n",
        "    count += 1\n",
        "  elif coinFlip[t] == 2: # if coinFlip == 2, move both y-values down 1\n",
        "    y += -1\n",
        "    b += -1\n",
        "    count += 1\n",
        "  else:                  # if coinFlip == 3, move both y-values up 1\n",
        "    y += 1\n",
        "    b += 1\n",
        "    count += 1\n",
        "  if count > 500:                         # dog and person split up after 500 iterations\n",
        "    if coinFlip[t] == 0:   # if coinFlip == 0, move dog x-value to the left 1\n",
        "      a += -1\n",
        "    elif coinFlip[t] == 1: # if coinFlip == 1, move dog x-value to the right 1\n",
        "      a += 1\n",
        "    elif coinFlip[t] == 2: # if coinFlip == 2, move dog y-value down 1\n",
        "      b += -1\n",
        "    else:                  # if coinFlip == 3, move dog y-value up 1\n",
        "      b += 1\n",
        "\n",
        "plt.figure(figsize=(5,5))\n",
        "plt.plot(x1, y1, alpha=0.5, c='blue')             # person\n",
        "plt.plot(x2, y2, alpha=0.5, c='red')              # dog\n",
        "plt.scatter(0, 0, s=100, c = 'green')             # starting point is a green dot\n",
        "plt.scatter(x1[-1], y1[-1], s=100, c = 'red')     # person end point is a red dot\n",
        "plt.scatter(x2[-1], y2[-1], s=100, c='yellow')    # dog end point is a yellow dot\n",
        "plt.scatter(x1[501], y1[501], s=100, c='blue')    # separation point between dog and person\n",
        "plt.grid() \n",
        "plt.xlabel('$x$') \n",
        "plt.ylabel('$y$')\n",
        "plt.title('A random walk with a dog')\n",
        "plt.show()"
      ],
      "metadata": {
        "colab": {
          "base_uri": "https://localhost:8080/",
          "height": 350
        },
        "id": "lyyAjYWRr0he",
        "outputId": "200eabea-dc0d-49da-a74a-9e00493db303"
      },
      "execution_count": null,
      "outputs": [
        {
          "output_type": "display_data",
          "data": {
            "image/png": "[encoded data removed]",
            "text/plain": [
              "<Figure size 360x360 with 1 Axes>"
            ]
          },
          "metadata": {
            "needs_background": "light"
          }
        }
      ]
    },
    {
      "cell_type": "markdown",
      "source": [
        "###Random walk with an obedient dog (person has gravity)\n",
        "This code is similar to the above, but this time the person is weighted, meaning that once the person lets the dog go, the dog runs around but comes back in time to finish the walk with the person. In this simulation, the person and the dog start the walk together, but the person stops to rest while the dog goes off on its own. Here the speed of the dog doubles to simulate it running. Then after the person is ready to keep walking, the dog comes back to the person as an obedient dog should. The `x` and `y` coordinates of the dog are manipulated in the same `if` and `elif` blocks, so that's why it returns to the person diagonally on the `plt` plot since that's the fastest way back."
      ],
      "metadata": {
        "id": "F87bUVLXt6Nl"
      }
    },
    {
      "cell_type": "code",
      "source": [
        "n = 3000\n",
        "coinFlip = np.random.randint(0,4,n) # a coin flip machine that contains 0,1,2,3 numbers for 3000 times\n",
        "x1 = np.zeros(n) \n",
        "y1 = np.zeros(n)\n",
        "x2 = np.zeros(n) \n",
        "y2 = np.zeros(n)\n",
        "x,y = 0,0                            # starting point for person at 0,0\n",
        "a,b = 0,0                            # starting point for dog at 0,0\n",
        "for t in range(n):\n",
        "  x1[t], y1[t] = x,y\n",
        "  x2[t], y2[t] = a,b\n",
        "  if t <= 500:                        # first time group: when t is less than 500, both person and dog walk together\n",
        "    if coinFlip[t] == 0:\n",
        "      x += -1\n",
        "      a += -1\n",
        "    elif coinFlip[t] == 1:\n",
        "      x += 1\n",
        "      a += 1\n",
        "    elif coinFlip[t] == 2:\n",
        "      y += -1\n",
        "      b += -1\n",
        "    else:\n",
        "      y += 1\n",
        "      b += 1\n",
        "  if t > 500 and t < 800:              # second time group: when 500 < t < 800, person lets the dog go running (2x speed)\n",
        "    if coinFlip[t] == 0:\n",
        "      a += -2\n",
        "    elif coinFlip[t] == 1:\n",
        "      a += 2\n",
        "    elif coinFlip[t] == 2:\n",
        "      b += -2\n",
        "    else:\n",
        "      b += 2\n",
        "  if t >= 800:                         # third time group: when t >= 800, dog comes back to the person\n",
        "    x,y = x1[800], y1[800]\n",
        "    if x1[800] > x2[t] and y1[800] > y2[t]:   # when person is to the right of and above the dog, move the dog to the right and up\n",
        "      a += 1\n",
        "      b += 1\n",
        "    elif x1[800] < x2[t] and y1[800] > y2[t]: # when person is to the left of and above the dog, move the dog to the left and up\n",
        "      a += -1\n",
        "      b += 1\n",
        "    elif x1[800] > x2[t] and y1[800] < y2[t]: # when person is to the right of and below the dog, move the dog to the right and down\n",
        "      a += 1\n",
        "      b += -1\n",
        "    elif x1[800] < x2[t] and y1[800] < y2[t]: # when person is to the left of and below the dog, move the dog to the left and down\n",
        "      a += -1\n",
        "      b += -1\n",
        "    elif x1[800] == x2[t] and y1[800] > y2[t]: # when person is above the dog, move the dog up\n",
        "      b += 1\n",
        "    elif x1[800] == x2[t] and y1[800] < y2[t]: # when person is below the dog, move the dog down\n",
        "      b += -1\n",
        "    elif x1[800] > x2[t] and y1[800] == y2[t]: # when person is to the right of the dog, move the dog to the right\n",
        "      a += 1\n",
        "    elif x1[800] < x2[t] and y1[800] == y2[t]: # when person is to the left of the dog, move the dog to the left\n",
        "      a += -1\n",
        "    elif x1[800] == x2[t] and y1[800] == y2[t]: # when the dog reaches the person, have them finish the walk together\n",
        "      if coinFlip[t] == 0:\n",
        "        x += -1\n",
        "        a += -1\n",
        "      elif coinFlip[t] == 1:\n",
        "        x += 1\n",
        "        a += 1\n",
        "      elif coinFlip[t] == 2:\n",
        "        y += -1\n",
        "        b += -1\n",
        "      else:\n",
        "        y += 1\n",
        "        b += 1\n",
        "      \n",
        "\n",
        "plt.figure(figsize=(5,5))\n",
        "plt.plot(x1, y1, alpha=0.5, c='blue')             # person is blue\n",
        "plt.plot(x2, y2, alpha=0.5, c='red')              # dog is red, but once they walk together, the line turns purple\n",
        "plt.scatter(0, 0, s=200, c = 'green')             # starting point for person and dog is a green dot\n",
        "plt.scatter(x1[-1], y1[-1], s=200, c = 'red')     # person end point is a red dot\n",
        "plt.scatter(x2[-1], y2[-1], s=100, c='yellow')    # dog end point is a yellow dot\n",
        "plt.scatter(x2[800], y2[800], s=100, c='blue')    # when the dog runs back to the person\n",
        "plt.grid() \n",
        "plt.xlabel('$x$') \n",
        "plt.ylabel('$y$')\n",
        "plt.title('A random walk with an obedient dog')\n",
        "plt.show()"
      ],
      "metadata": {
        "id": "CgWkoElAKxyo",
        "colab": {
          "base_uri": "https://localhost:8080/",
          "height": 350
        },
        "outputId": "e6ab7bf3-898f-4931-94c2-7f10d1ef5105"
      },
      "execution_count": null,
      "outputs": [
        {
          "output_type": "display_data",
          "data": {
            "image/png": "[encoded data removed]",
            "text/plain": [
              "<Figure size 360x360 with 1 Axes>"
            ]
          },
          "metadata": {
            "needs_background": "light"
          }
        }
      ]
    },
    {
      "cell_type": "markdown",
      "source": [
        "### Average steps from origin: Dog\n",
        "After 1000 iterations, a scatterplot shows the average number of endpoints of the dog from the origin."
      ],
      "metadata": {
        "id": "yaDw4FV90SoH"
      }
    },
    {
      "cell_type": "code",
      "source": [
        "# Plots 1000 random walks in 2 dimensions\n",
        "# red points are the endpoints of each random walk, the green point is the starting point (0, 0) \n",
        "endpoints = np.zeros((1000, 2)) # initialize a list of enpoints\n",
        "for i in range(1000):\n",
        "  n = 1000\n",
        "  coinFlip = np.random.randint(0,4,n) # a coin flip machine that contains 0,1,2,3 numbers for 3000 times\n",
        "  x1 = np.zeros(n) \n",
        "  y1 = np.zeros(n)\n",
        "  x2 = np.zeros(n) \n",
        "  y2 = np.zeros(n)\n",
        "  x,y = 0,0                            # starting point for person at 0,0\n",
        "  a,b = 0,0                            # starting point for dog at 0,0\n",
        "  for t in range(n):\n",
        "    x1[t], y1[t] = x,y\n",
        "    x2[t], y2[t] = a,b\n",
        "    if t <= 500:                        # first time group: when t is less than 500, both person and dog walk together\n",
        "      if coinFlip[t] == 0:\n",
        "        x += -1\n",
        "        a += -1\n",
        "      elif coinFlip[t] == 1:\n",
        "        x += 1\n",
        "        a += 1\n",
        "      elif coinFlip[t] == 2:\n",
        "        y += -1\n",
        "        b += -1\n",
        "      else:\n",
        "        y += 1\n",
        "        b += 1\n",
        "    if t > 500 and t < 800:              # second time group: when 500 < t < 800, person lets the dog go running (2x speed)\n",
        "      if coinFlip[t] == 0:\n",
        "        a += -2\n",
        "      elif coinFlip[t] == 1:\n",
        "        a += 2\n",
        "      elif coinFlip[t] == 2:\n",
        "        b += -2\n",
        "      else:\n",
        "        b += 2\n",
        "    if t >= 800:                         # third time group: when t >= 800, dog comes back to the person\n",
        "      x,y = x1[800], y1[800]\n",
        "      if x1[800] > x2[t] and y1[800] > y2[t]:   # when person is to the right of and above the dog, move the dog to the right and up\n",
        "        a += 1\n",
        "        b += 1\n",
        "      elif x1[800] < x2[t] and y1[800] > y2[t]: # when person is to the left of and above the dog, move the dog to the left and up\n",
        "        a += -1\n",
        "        b += 1\n",
        "      elif x1[800] > x2[t] and y1[800] < y2[t]: # when person is to the right of and below the dog, move the dog to the right and down\n",
        "        a += 1\n",
        "        b += -1\n",
        "      elif x1[800] < x2[t] and y1[800] < y2[t]: # when person is to the left of and below the dog, move the dog to the left and down\n",
        "        a += -1\n",
        "        b += -1\n",
        "      elif x1[800] == x2[t] and y1[800] > y2[t]: # when person is above the dog, move the dog up\n",
        "        b += 1\n",
        "      elif x1[800] == x2[t] and y1[800] < y2[t]: # when person is below the dog, move the dog down\n",
        "        b += -1\n",
        "      elif x1[800] > x2[t] and y1[800] == y2[t]: # when person is to the right of the dog, move the dog to the right\n",
        "        a += 1\n",
        "      elif x1[800] < x2[t] and y1[800] == y2[t]: # when person is to the left of the dog, move the dog to the left\n",
        "        a += -1\n",
        "      elif x1[800] == x2[t] and y1[800] == y2[t]: # when the dog reaches the person, have them finish the walk together\n",
        "        if coinFlip[t] == 0:\n",
        "          x += -1\n",
        "          a += -1\n",
        "        elif coinFlip[t] == 1:\n",
        "          x += 1\n",
        "          a += 1\n",
        "        elif coinFlip[t] == 2:\n",
        "          y += -1\n",
        "          b += -1\n",
        "        else:\n",
        "          y += 1\n",
        "          b += 1\n",
        "        \n",
        "    endpoints[i, 0] = x2[-1]\n",
        "    endpoints[i, 1] = y2[-1]\n",
        "\n",
        "plt.figure(figsize=(5,5))\n",
        "# plt.plot(xlist, ylist, c='blue')\n",
        "plt.scatter(0, 0, s=100, c = 'green') # plot starting point as green\n",
        "plt.scatter(endpoints[:, 0], endpoints[:, 1], s=1, c = 'red') # plot endpoints as red\n",
        "plt.grid() \n",
        "plt.xlabel('$x$') \n",
        "plt.ylabel('$y$')\n",
        "plt.title('1000 random walks in 2 dimensions') # red points are the endpoints of each random walk, green is the start point (0, 0)\n",
        "plt.show()"
      ],
      "metadata": {
        "id": "OAJskRO90QwY",
        "outputId": "c1b9bf4b-4c52-4a6e-bbad-f03ea0cef4bf",
        "colab": {
          "base_uri": "https://localhost:8080/",
          "height": 350
        }
      },
      "execution_count": null,
      "outputs": [
        {
          "output_type": "display_data",
          "data": {
            "image/png": "[encoded data removed]",
            "text/plain": [
              "<Figure size 360x360 with 1 Axes>"
            ]
          },
          "metadata": {
            "needs_background": "light"
          }
        }
      ]
    },
    {
      "cell_type": "markdown",
      "source": [
        "### Observations:\n",
        "With the random walk showing the movement of both the dog and the person, we weighted the movement so that the dog would tend to stay near their owner. This simulates gravity in a sense. The dog started walking with the owner, then broke away for a moment, but eventually returned back. We noticed that the scatter plot of the endpoints from the dog above was similar to the previous plot of endpoints when looking at just one person moving. "
      ],
      "metadata": {
        "id": "JmyR5ijt1W3f"
      }
    },
    {
      "cell_type": "markdown",
      "source": [
        "## Visualization"
      ],
      "metadata": {
        "id": "zvoyO3mkVIcN"
      }
    },
    {
      "cell_type": "markdown",
      "source": [
        "Create two visualizations (one in MatPlotLib and one with PIL) that exhibit your findings."
      ],
      "metadata": {
        "id": "aP10kLIGVX8V"
      }
    },
    {
      "cell_type": "markdown",
      "source": [
        "**PIL visualization**\n",
        "\n",
        "Here we plot the array of endpoints on a Red, Yellow, Blue scale. Since there are only two columns in the array of endpoints, there is no blue displayed in the image, rather each strip is formed of red and yellow colors. Each different color reprsents a different endpoint for the random walk."
      ],
      "metadata": {
        "id": "eM1bvo4ghrw2"
      }
    },
    {
      "cell_type": "code",
      "source": [
        "from matplotlib import cm\n",
        "#normalize data between 0-1\n",
        "#norm=(endpoints-np.min(endpoints))/(np.max(endpoints)-np.min(endpoints))\n",
        "norm = np.linalg.norm(endpoints)\n",
        "normal_array = endpoints/norm\n",
        "#apply colormap to array\n",
        "color=cm.RdYlBu(normal_array)\n",
        "#rescale 0-255\n",
        "new_arr = ((((color - 0.0039)) * (1/(0.77 - 0.0039))) * 255).astype('uint8')\n",
        "Im=Image.fromarray(new_arr)\n",
        "Im_1=Im.resize((500,500))\n",
        "display(Im_1)"
      ],
      "metadata": {
        "colab": {
          "base_uri": "https://localhost:8080/",
          "height": 517
        },
        "id": "DCAu7nJPdSpH",
        "outputId": "3cb318eb-ce09-4ec4-a67f-874c7e375966"
      },
      "execution_count": null,
      "outputs": [
        {
          "output_type": "display_data",
          "data": {
            "image/png": "[encoded data removed]",
            "text/plain": [
              "<PIL.Image.Image image mode=RGBA size=500x500 at 0x7FAC76EA5550>"
            ]
          },
          "metadata": {}
        }
      ]
    },
    {
      "cell_type": "markdown",
      "source": [
        "**matplotlib visualization**\n",
        "\n",
        "Here we plot a heat map after performing 1000 repetitions of the two dimensional random walk. The lighter shade near (0,0) represents more data points. We can see that most points are clumped near (0, 0) and as we get further away from the starting point, the endpoints are not as abundant."
      ],
      "metadata": {
        "id": "r5kDLlYShxXe"
      }
    },
    {
      "cell_type": "code",
      "source": [
        "# Generate some data\n",
        "N = 1000 # We want to do 1000 data points\n",
        "xHeat = np.zeros(N) # Initalize empty np array\n",
        "yHeat = np.zeros(N) \n",
        "for i in range(N):\n",
        "  x,y = repetition(N) # Calling the random walk and returning the x,y coordinates of endpoint\n",
        "  xHeat[i] = x # Assigning to x array\n",
        "  yHeat[i] = y # Assinging to y array\n",
        "\n",
        "heatmap, xedges, yedges = np.histogram2d(xHeat, yHeat, bins=50) # We are using histogram 2D to define the edges of our heatmap\n",
        "extent = [xedges[0], xedges[-1], yedges[0], yedges[-1]] # we draw the frequencies of x and y landing on a spot\n",
        "\n",
        "plt.clf() #make the heat map\n",
        "plt.imshow(heatmap.T, extent=extent, origin='lower')\n",
        "plt.show()"
      ],
      "metadata": {
        "colab": {
          "base_uri": "https://localhost:8080/",
          "height": 265
        },
        "id": "zak9-hW-paCi",
        "outputId": "69c4f572-b322-4ab5-a311-483f3cf4fd26"
      },
      "execution_count": null,
      "outputs": [
        {
          "output_type": "display_data",
          "data": {
            "image/png": "[encoded data removed]",
            "text/plain": [
              "<Figure size 432x288 with 1 Axes>"
            ]
          },
          "metadata": {
            "needs_background": "light"
          }
        }
      ]
    }
  ]
}